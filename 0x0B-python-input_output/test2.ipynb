{
 "cells": [
  {
   "cell_type": "code",
   "execution_count": 8,
   "metadata": {},
   "outputs": [],
   "source": [
    "from heapq import heapify\n",
    "\n",
    "\n",
    "class Test:\n",
    "    def __init__(self, maths, eng):\n",
    "        self.maths = maths\n",
    "        self.eng = eng\n",
    "        \n",
    "    def kisw(self):\n",
    "        marks = {\n",
    "            'scie':'80',\n",
    "            'phy':'90'\n",
    "        }\n",
    "        \n",
    "#vars(Test)"
   ]
  },
  {
   "cell_type": "code",
   "execution_count": 1,
   "metadata": {},
   "outputs": [
    {
     "data": {
      "text/plain": [
       "type['maths']"
      ]
     },
     "execution_count": 1,
     "metadata": {},
     "output_type": "execute_result"
    }
   ],
   "source": [
    "\n",
    "\n",
    "\n",
    "class exams:\n",
    "    def __init__(self, maths, eng, swa):\n",
    "        self.maths = maths\n",
    "        self.eng = eng\n",
    "        self.swa = swa\n",
    "    def call(self, ho):\n",
    "        self.__dict__\n",
    "exams.__class__['maths']"
   ]
  },
  {
   "cell_type": "code",
   "execution_count": 7,
   "metadata": {},
   "outputs": [
    {
     "name": "stdout",
     "output_type": "stream",
     "text": [
      "23\n"
     ]
    }
   ],
   "source": [
    "class doo:\n",
    "    def foo(self):\n",
    "        pass\n",
    "        self.__dict__\n",
    "    setattr(foo, 'age', 23)\n",
    "    print(getattr(foo, 'age'))"
   ]
  },
  {
   "cell_type": "code",
   "execution_count": null,
   "metadata": {},
   "outputs": [],
   "source": []
  }
 ],
 "metadata": {
  "kernelspec": {
   "display_name": "Python 3.10.2 64-bit",
   "language": "python",
   "name": "python3"
  },
  "language_info": {
   "codemirror_mode": {
    "name": "ipython",
    "version": 3
   },
   "file_extension": ".py",
   "mimetype": "text/x-python",
   "name": "python",
   "nbconvert_exporter": "python",
   "pygments_lexer": "ipython3",
   "version": "3.10.6"
  },
  "orig_nbformat": 4,
  "vscode": {
   "interpreter": {
    "hash": "369f2c481f4da34e4445cda3fffd2e751bd1c4d706f27375911949ba6bb62e1c"
   }
  }
 },
 "nbformat": 4,
 "nbformat_minor": 2
}
